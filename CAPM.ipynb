{
  "nbformat": 4,
  "nbformat_minor": 0,
  "metadata": {
    "colab": {
      "provenance": []
    },
    "kernelspec": {
      "name": "python3",
      "display_name": "Python 3"
    },
    "language_info": {
      "name": "python"
    }
  },
  "cells": [
    {
      "cell_type": "code",
      "execution_count": null,
      "metadata": {
        "id": "qSynotFcDO_a"
      },
      "outputs": [],
      "source": [
        "import pandas as pd\n",
        "import seaborn as sns\n",
        "import plotly.express as px\n",
        "from copy import copy\n",
        "import matplotlib.pyplot as plt\n",
        "import numpy as np\n",
        "import plotly.figure_factory as ff\n",
        "import plotly.graph_objects as go"
      ]
    },
    {
      "cell_type": "code",
      "source": [
        "!pip install jupyterthemes\n"
      ],
      "metadata": {
        "id": "lkpTPxjvDX_Q"
      },
      "execution_count": null,
      "outputs": []
    },
    {
      "cell_type": "code",
      "source": [
        "from jupyterthemes import jtplot # Jupyter theme\n",
        "jtplot.style(theme = 'monokai', context= 'notebook', ticks= True, grid= False)"
      ],
      "metadata": {
        "id": "WgiMkoBvDsfI"
      },
      "execution_count": null,
      "outputs": []
    },
    {
      "cell_type": "code",
      "source": [
        "# Read the stock data file\n",
        "stocks_df = pd.read_csv('stocks_dataset.csv')\n",
        "stocks_df\n",
        "# Getting dataframe info\n",
        "stocks_df.info()\n",
        "stocks_df.describe()"
      ],
      "metadata": {
        "collapsed": true,
        "id": "_oTuDMLCDahR"
      },
      "execution_count": null,
      "outputs": []
    },
    {
      "cell_type": "code",
      "source": [
        "#Noralize the stock data file, basically divide all the prices by its intial price\n",
        "def Normalize(df):\n",
        "    x = df.copy()\n",
        "    for i in x.columns[1:]:\n",
        "        x[i]=x[i]/x[i][0]\n",
        "    return x\n",
        "\n",
        "normalize_data = Normalize(stocks_df)\n",
        "normalize_data\n",
        ""
      ],
      "metadata": {
        "id": "Acfz_0afkNv0"
      },
      "execution_count": null,
      "outputs": []
    },
    {
      "cell_type": "code",
      "source": [
        "# Function to plot interactive plot\n",
        "def interactive_plot(df, title):\n",
        "    fig = px.line(title = title)\n",
        "    for i in df.columns[1:]:\n",
        "        fig.add_scatter(x = df['Date'], y = df[i], name = i)\n",
        "    fig.show()\n",
        "\n",
        "# Plot interactive chart\n",
        "interactive_plot(stocks_df, 'Prices')"
      ],
      "metadata": {
        "id": "GRsrNepskUdf"
      },
      "execution_count": 19,
      "outputs": []
    },
    {
      "cell_type": "code",
      "source": [
        "# Function to calculate the daily returns\n",
        "def daily_return(df):\n",
        "    df_daily_return = df.copy()\n",
        "\n",
        "    for i in df.columns[1:]:  # here, i is for columns\n",
        "        for j in range(1, len(df)):  # j is for every row in column i\n",
        "            df_daily_return[i][j] = ((df[i][j]-df[i][j-1])/df[i][j])*100\n",
        "            df_daily_return[i][0]=0\n",
        "\n",
        "    return df_daily_return\n",
        "\n",
        "stocks_daily_return = daily_return(stocks_df)\n",
        "print('Daily Returns:')\n",
        "stocks_daily_return\n",
        "# x = stocks_daily_return['TSLA']\n",
        "# x"
      ],
      "metadata": {
        "id": "Fipu8ibnjNxk"
      },
      "execution_count": null,
      "outputs": []
    },
    {
      "cell_type": "code",
      "source": [
        "# plot a scatter plot between the selected stock and the S&P500 (Market)\n",
        "stocks_daily_return.plot(kind='scatter', x='sp500', y='TSLA', color='w', title='sp500 vs Tesla')"
      ],
      "metadata": {
        "id": "f-1kORz_mVJp"
      },
      "execution_count": null,
      "outputs": []
    },
    {
      "cell_type": "code",
      "source": [
        "# Fit a polynomial between the selected stock and the S&P500 (Poly with order = 1 is a straight line)\n",
        "\n",
        "# beta represents the slope of the line regression line (market return vs. stock return).\n",
        "# Beta is a measure of the volatility or systematic risk of a security or portfolio compared to the entire market (S&P500)\n",
        "# Beta is used in the CAPM and describes the relationship between systematic risk and expected return for assets\n",
        "\n",
        "# Beta = 1.0, this indicates that its price activity is strongly correlated with the market.\n",
        "# Beta < 1, indicates that the security is theoretically less volatile than the market (Ex: Utility stocks). If the stock is included, this will make the portfolio less risky compared to the same portfolio without the stock.\n",
        "# Beta > 1, indicates that the security's price is more volatile than the market. For instance, Tesla stock beta is 1.26 indicating that it's 26% more volatile than the market.\n",
        "# Tech stocks generally have higher betas than S&P500 but they also have excess returns\n",
        "# MGM is 65% more volatile than the S&P500!\n",
        "\n",
        "\n",
        "beta_TSLA, alpha_TSLA = np.polyfit(stocks_daily_return['sp500'], stocks_daily_return['TSLA'], 1)\n",
        "print('Beta for {} stock is = {} and alpha is = {}'.format('TSLA', beta_TSLA, alpha_TSLA))\n",
        "\n",
        "# Now let's plot the scatter plot and the straight line on one plot\n",
        "stocks_daily_return.plot(kind = 'scatter', x = 'sp500', y = 'TSLA', color = 'w')\n",
        "\n",
        "# Straight line equation with alpha and beta parameters\n",
        "# Straight line equation is y = beta * rm + alpha\n",
        "plt.plot(stocks_daily_return['sp500'], beta_TSLA * stocks_daily_return['sp500'] + alpha_TSLA, '-', color = 'r')\n",
        "plt.show()\n",
        "\n",
        "# Let's calculate the average daily rate of return for S&P500\n",
        "avg = stocks_daily_return['sp500'].mean()\n",
        "print('Average is :', avg)\n",
        "\n",
        "# Annual Market Return\n",
        "# 252 days market opened in a year\n",
        "rm = stocks_daily_return['sp500'].mean()*252\n",
        "print('Annual Market Return is :', rm)"
      ],
      "metadata": {
        "id": "n6C0t_dKoa6w"
      },
      "execution_count": null,
      "outputs": []
    },
    {
      "cell_type": "code",
      "source": [
        "# Assume risk free rate is zero\n",
        "# Also you can use the yield of a 10-years U.S. Government bond as a risk free rate\n",
        "rf=0\n",
        "# Calculate return for any security (TSLA) using CAPM\n",
        "ER_TLSA = rf + (beta_TSLA * (rm-rf))\n",
        "ER_TLSA\n",
        "\n",
        "# Apply CAPM formula to calculate the return for Boeing\n",
        "\n",
        "# beta_BA, alpha_BA = np.polyfit(stocks_daily_return['sp500'], stocks_daily_return['BA'], 1)\n",
        "# rf = 0\n",
        "# rm = stocks_daily_return['sp500'].mean()*252\n",
        "\n",
        "# ER_BA = rf + beta_BA*(rm - rf)\n",
        "# ER_BA"
      ],
      "metadata": {
        "id": "1gp2qCFot_9n"
      },
      "execution_count": null,
      "outputs": []
    },
    {
      "cell_type": "code",
      "source": [
        "# Let's create a placeholder for all betas and alphas (empty dictionaries)\n",
        "beta = {}\n",
        "alpha = {}\n",
        "\n",
        "# Loop on every stock daily return\n",
        "for i in stocks_daily_return.columns[1:8]:\n",
        "\n",
        "    # plot a scatter plot between each individual stock and the S&P500 (Market)\n",
        "    stocks_daily_return.plot(kind = 'scatter', x = 'sp500', y = i, color = 'w')\n",
        "\n",
        "    # Fit a polynomial between each stock and the S&P500 (Poly with order = 1 is a straight line)\n",
        "    b, a = np.polyfit(stocks_daily_return['sp500'], stocks_daily_return[i], 1)\n",
        "\n",
        "    plt.plot(stocks_daily_return['sp500'], b * stocks_daily_return['sp500'] + a, '-', color = 'r')\n",
        "\n",
        "    beta[i] = b\n",
        "\n",
        "    alpha[i] = a\n",
        "\n",
        "    plt.show()\n",
        "\n",
        "\n",
        "# END"
      ],
      "metadata": {
        "id": "Wseeh3fd0GVR"
      },
      "execution_count": null,
      "outputs": []
    }
  ]
}